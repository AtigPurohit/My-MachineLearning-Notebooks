{
  "nbformat": 4,
  "nbformat_minor": 0,
  "metadata": {
    "colab": {
      "name": "Tensorflow Practice",
      "provenance": [],
      "collapsed_sections": []
    },
    "kernelspec": {
      "name": "python3",
      "display_name": "Python 3"
    },
    "language_info": {
      "name": "python"
    }
  },
  "cells": [
    {
      "cell_type": "markdown",
      "metadata": {
        "id": "T4_uc5kxxjQv"
      },
      "source": [
        "BASICS\n"
      ]
    },
    {
      "cell_type": "code",
      "metadata": {
        "id": "9OEWZZ3hoM1k",
        "colab": {
          "base_uri": "https://localhost:8080/"
        },
        "outputId": "62f22cf0-1ad8-4f81-b73d-f4f1be57f59e"
      },
      "source": [
        "%tensorflow_version 1.x"
      ],
      "execution_count": null,
      "outputs": [
        {
          "output_type": "stream",
          "text": [
            "TensorFlow 1.x selected.\n"
          ],
          "name": "stdout"
        }
      ]
    },
    {
      "cell_type": "code",
      "metadata": {
        "id": "MgsXIJqFoNj2"
      },
      "source": [
        "import tensorflow as tf"
      ],
      "execution_count": null,
      "outputs": []
    },
    {
      "cell_type": "code",
      "metadata": {
        "colab": {
          "base_uri": "https://localhost:8080/"
        },
        "id": "pIdmnYPyoQU4",
        "outputId": "1925f3a5-3850-4569-db56-7b8407c8c244"
      },
      "source": [
        "print(tf.__version__)"
      ],
      "execution_count": null,
      "outputs": [
        {
          "output_type": "stream",
          "text": [
            "1.15.2\n"
          ],
          "name": "stdout"
        }
      ]
    },
    {
      "cell_type": "code",
      "metadata": {
        "id": "p5ytkTnioTbN"
      },
      "source": [
        "hello = tf.constant(\"Hello\")\n",
        "world = tf.constant(\"World\")"
      ],
      "execution_count": null,
      "outputs": []
    },
    {
      "cell_type": "code",
      "metadata": {
        "id": "ZdLRYYbtpFzc"
      },
      "source": [
        "sess = tf.Session()"
      ],
      "execution_count": null,
      "outputs": []
    },
    {
      "cell_type": "code",
      "metadata": {
        "colab": {
          "base_uri": "https://localhost:8080/"
        },
        "id": "2RZqmCy9pH_b",
        "outputId": "afd1cb43-4512-41e3-c77c-cb214b1a5929"
      },
      "source": [
        "print(sess.run(hello+world))"
      ],
      "execution_count": null,
      "outputs": [
        {
          "output_type": "stream",
          "text": [
            "b'HelloWorld'\n"
          ],
          "name": "stdout"
        }
      ]
    },
    {
      "cell_type": "code",
      "metadata": {
        "id": "Mj107AK5pM7F"
      },
      "source": [
        "with tf.Session() as sess:\n",
        "  result = sess.run(hello+world)"
      ],
      "execution_count": null,
      "outputs": []
    },
    {
      "cell_type": "code",
      "metadata": {
        "colab": {
          "base_uri": "https://localhost:8080/"
        },
        "id": "qlaNCH_xpzB2",
        "outputId": "d693aec0-2c32-44db-d7d9-9ee7478d8dd1"
      },
      "source": [
        "print(result)"
      ],
      "execution_count": null,
      "outputs": [
        {
          "output_type": "stream",
          "text": [
            "b'HelloWorld'\n"
          ],
          "name": "stdout"
        }
      ]
    },
    {
      "cell_type": "code",
      "metadata": {
        "id": "uS8S2TYHqFk6"
      },
      "source": [
        "a = tf.constant(10)\n",
        "b = tf.constant(20)\n",
        "sum = a+b"
      ],
      "execution_count": null,
      "outputs": []
    },
    {
      "cell_type": "code",
      "metadata": {
        "colab": {
          "base_uri": "https://localhost:8080/"
        },
        "id": "cZvYVpE4qygo",
        "outputId": "7f106182-0911-4e89-a0ca-3c06bdad4e93"
      },
      "source": [
        "type(sum)"
      ],
      "execution_count": null,
      "outputs": [
        {
          "output_type": "execute_result",
          "data": {
            "text/plain": [
              "tensorflow.python.framework.ops.Tensor"
            ]
          },
          "metadata": {
            "tags": []
          },
          "execution_count": 10
        }
      ]
    },
    {
      "cell_type": "code",
      "metadata": {
        "colab": {
          "base_uri": "https://localhost:8080/"
        },
        "id": "ObldFfuwq3tP",
        "outputId": "715541db-525a-439c-b80d-d3697dcb7469"
      },
      "source": [
        "print(sum)"
      ],
      "execution_count": null,
      "outputs": [
        {
          "output_type": "stream",
          "text": [
            "Tensor(\"add_2:0\", shape=(), dtype=int32)\n"
          ],
          "name": "stdout"
        }
      ]
    },
    {
      "cell_type": "code",
      "metadata": {
        "id": "YGJw78NBq7VJ"
      },
      "source": [
        "sess = tf.InteractiveSession()\n",
        "result = sess.run(sum)"
      ],
      "execution_count": null,
      "outputs": []
    },
    {
      "cell_type": "code",
      "metadata": {
        "colab": {
          "base_uri": "https://localhost:8080/"
        },
        "id": "TOq0hVjirLqY",
        "outputId": "4dfd5aad-9237-43e9-f7f3-ac82471823ed"
      },
      "source": [
        "result"
      ],
      "execution_count": null,
      "outputs": [
        {
          "output_type": "execute_result",
          "data": {
            "text/plain": [
              "30"
            ]
          },
          "metadata": {
            "tags": []
          },
          "execution_count": 13
        }
      ]
    },
    {
      "cell_type": "code",
      "metadata": {
        "id": "WJsJDD-3rRwJ"
      },
      "source": [
        "myrand1 = tf.random_normal((4,4),mean=0,stddev=1.0)\n",
        "myrand2 = tf.random_normal((4,4),mean=1,stddev=1)"
      ],
      "execution_count": null,
      "outputs": []
    },
    {
      "cell_type": "code",
      "metadata": {
        "id": "4xN6CBHBuDF3"
      },
      "source": [
        "my_ops = [myrand1,myrand2]"
      ],
      "execution_count": null,
      "outputs": []
    },
    {
      "cell_type": "code",
      "metadata": {
        "colab": {
          "base_uri": "https://localhost:8080/"
        },
        "id": "etCTwDaquNUq",
        "outputId": "2e6dcedb-719e-43e5-9194-a4242d5cd504"
      },
      "source": [
        "for op in my_ops:\n",
        "   print(sess.run(op))\n",
        "   print(\"\\n\")"
      ],
      "execution_count": null,
      "outputs": [
        {
          "output_type": "stream",
          "text": [
            "[[ 0.36502263  0.7655812  -0.66846734  1.8302705 ]\n",
            " [-0.26348966 -0.17596287  0.19409649 -1.227079  ]\n",
            " [-1.1166319   0.653436    0.83422124 -0.2971182 ]\n",
            " [-0.58957106  1.3679285  -0.46110007 -0.28420168]]\n",
            "\n",
            "\n",
            "[[ 0.47186583  0.8055643   0.6535487   0.63624567]\n",
            " [-0.39152193  2.0466785  -0.67753756  1.4030671 ]\n",
            " [ 2.182517    0.51116055  2.3268948   1.212547  ]\n",
            " [ 2.133995    0.06568801  1.3940461   0.69890773]]\n",
            "\n",
            "\n"
          ],
          "name": "stdout"
        }
      ]
    },
    {
      "cell_type": "markdown",
      "metadata": {
        "id": "LlhzTuAoxqem"
      },
      "source": [
        "GRAPHS"
      ]
    },
    {
      "cell_type": "code",
      "metadata": {
        "colab": {
          "base_uri": "https://localhost:8080/"
        },
        "id": "sYa-U5ApuUD1",
        "outputId": "b7a7647d-54cc-4e94-b331-42f2fbba5ac4"
      },
      "source": [
        "graph_one = tf.get_default_graph()\n",
        "print(graph_one)"
      ],
      "execution_count": null,
      "outputs": [
        {
          "output_type": "stream",
          "text": [
            "<tensorflow.python.framework.ops.Graph object at 0x7f97e45d12d0>\n"
          ],
          "name": "stdout"
        }
      ]
    },
    {
      "cell_type": "code",
      "metadata": {
        "id": "cVrx2dTexlDO"
      },
      "source": [
        "graph_two = tf.Graph()"
      ],
      "execution_count": null,
      "outputs": []
    },
    {
      "cell_type": "code",
      "metadata": {
        "colab": {
          "base_uri": "https://localhost:8080/"
        },
        "id": "iOs-ZPw-0q82",
        "outputId": "4b9a4b6f-4aa6-4158-a209-fe73ae5dea12"
      },
      "source": [
        "print(graph_two is tf.get_default_graph())"
      ],
      "execution_count": null,
      "outputs": [
        {
          "output_type": "stream",
          "text": [
            "False\n"
          ],
          "name": "stdout"
        }
      ]
    },
    {
      "cell_type": "code",
      "metadata": {
        "colab": {
          "base_uri": "https://localhost:8080/"
        },
        "id": "zm-eeIaS01ik",
        "outputId": "945d6972-ae2f-4f0e-9dca-b7a85887bfe4"
      },
      "source": [
        "with graph_two.as_default():\n",
        "  print(graph_two is tf.get_default_graph())"
      ],
      "execution_count": null,
      "outputs": [
        {
          "output_type": "stream",
          "text": [
            "True\n"
          ],
          "name": "stdout"
        }
      ]
    },
    {
      "cell_type": "markdown",
      "metadata": {
        "id": "kjVIOHZN1jZi"
      },
      "source": [
        "VARIABLES AND PLACEHOLDERS"
      ]
    },
    {
      "cell_type": "code",
      "metadata": {
        "id": "qppoWBgn1k32"
      },
      "source": [
        "import tensorflow as tf"
      ],
      "execution_count": null,
      "outputs": []
    },
    {
      "cell_type": "code",
      "metadata": {
        "colab": {
          "base_uri": "https://localhost:8080/"
        },
        "id": "3k0XXxBj4K7G",
        "outputId": "9dd23555-c2a7-4c04-ea96-839b1f8b5ee4"
      },
      "source": [
        "sess = tf.InteractiveSession()"
      ],
      "execution_count": null,
      "outputs": [
        {
          "output_type": "stream",
          "text": [
            "/tensorflow-1.15.2/python3.7/tensorflow_core/python/client/session.py:1750: UserWarning: An interactive session is already active. This can cause out-of-memory errors in some cases. You must explicitly call `InteractiveSession.close()` to release resources held by the other session(s).\n",
            "  warnings.warn('An interactive session is already active. This can '\n"
          ],
          "name": "stderr"
        }
      ]
    },
    {
      "cell_type": "code",
      "metadata": {
        "id": "Hg52nmy04OAS"
      },
      "source": [
        "my_tensor = tf.random_uniform((4,4),1,5)"
      ],
      "execution_count": null,
      "outputs": []
    },
    {
      "cell_type": "code",
      "metadata": {
        "colab": {
          "base_uri": "https://localhost:8080/"
        },
        "id": "4iw_eEjr4nDU",
        "outputId": "73655db4-1b7d-4764-c828-583196ccd8cb"
      },
      "source": [
        "my_tensor"
      ],
      "execution_count": null,
      "outputs": [
        {
          "output_type": "execute_result",
          "data": {
            "text/plain": [
              "<tf.Tensor 'random_uniform:0' shape=(4, 4) dtype=float32>"
            ]
          },
          "metadata": {
            "tags": []
          },
          "execution_count": 24
        }
      ]
    },
    {
      "cell_type": "code",
      "metadata": {
        "id": "C_jFku5N4to8"
      },
      "source": [
        "my_var = tf.Variable(my_tensor)"
      ],
      "execution_count": null,
      "outputs": []
    },
    {
      "cell_type": "code",
      "metadata": {
        "colab": {
          "base_uri": "https://localhost:8080/"
        },
        "id": "W1aSWLVC4ydl",
        "outputId": "99a7181f-0d1b-4659-b2c5-5a3369e7be03"
      },
      "source": [
        "print(my_var)"
      ],
      "execution_count": null,
      "outputs": [
        {
          "output_type": "stream",
          "text": [
            "<tf.Variable 'Variable:0' shape=(4, 4) dtype=float32_ref>\n"
          ],
          "name": "stdout"
        }
      ]
    },
    {
      "cell_type": "code",
      "metadata": {
        "id": "kYqMX1JQ40uy"
      },
      "source": [
        "init = tf.global_variables_initializer()\n",
        "sess.run(init)"
      ],
      "execution_count": null,
      "outputs": []
    },
    {
      "cell_type": "code",
      "metadata": {
        "colab": {
          "base_uri": "https://localhost:8080/"
        },
        "id": "e2AhVV_f43Ld",
        "outputId": "65a348fc-a2db-4021-d192-9a538b1e34db"
      },
      "source": [
        "sess.run(my_var)"
      ],
      "execution_count": null,
      "outputs": [
        {
          "output_type": "execute_result",
          "data": {
            "text/plain": [
              "array([[2.7081318, 2.4926   , 4.0793037, 4.6238894],\n",
              "       [4.820035 , 3.294907 , 1.4079113, 3.0773845],\n",
              "       [4.013759 , 2.9210668, 3.4600391, 4.8745213],\n",
              "       [4.3792133, 2.851705 , 3.2291007, 1.7186785]], dtype=float32)"
            ]
          },
          "metadata": {
            "tags": []
          },
          "execution_count": 28
        }
      ]
    },
    {
      "cell_type": "code",
      "metadata": {
        "id": "xpIVGMJE5FQa"
      },
      "source": [
        "ph = tf.placeholder(tf.float32, shape=(None,5))"
      ],
      "execution_count": null,
      "outputs": []
    },
    {
      "cell_type": "code",
      "metadata": {
        "id": "F3gbzYY15QWe"
      },
      "source": [
        ""
      ],
      "execution_count": null,
      "outputs": []
    }
  ]
}